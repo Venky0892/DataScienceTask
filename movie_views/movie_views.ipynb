{
 "cells": [
  {
   "cell_type": "code",
   "execution_count": 102,
   "metadata": {},
   "outputs": [],
   "source": [
    "# Install neccesary packages \n",
    "\n",
    "import pandas as pd \n",
    "import numpy as np \n",
    "from sklearn.linear_model import LinearRegression\n",
    "import xgboost as xgb\n",
    "from sklearn.ensemble import RandomForestRegressor"
   ]
  },
  {
   "cell_type": "code",
   "execution_count": 60,
   "metadata": {},
   "outputs": [],
   "source": [
    "# Read file \n",
    "data = pd.read_csv(\"/Users/venketeshprasathmanoharan/Desktop/word_count/Top_250_Movie.csv\")"
   ]
  },
  {
   "cell_type": "code",
   "execution_count": 61,
   "metadata": {},
   "outputs": [
    {
     "data": {
      "text/plain": [
       "Index(['ID', 'Title', 'Year', 'Rating ', 'Rating_count', 'views'], dtype='object')"
      ]
     },
     "execution_count": 61,
     "metadata": {},
     "output_type": "execute_result"
    }
   ],
   "source": [
    "# Creating a column Views to update the given value \n",
    "\n",
    "data[\"views\"] = \"\"\n",
    "data.columns"
   ]
  },
  {
   "cell_type": "code",
   "execution_count": 62,
   "metadata": {},
   "outputs": [],
   "source": [
    "# Update the given values to the new columns \\\n",
    "\n",
    "data.loc[data['Title'] == 'Forest Gump', 'views'] = 10000000\n",
    "data.loc[data['Title'] == 'The Usual Suspects', 'views'] = 7500000\n",
    "data.loc[data['Title'] == 'Rear Window', 'views'] = 6000000\n",
    "data.loc[data['Title'] == 'North by Northwest', 'views'] = 4000000\n",
    "data.loc[data['Title'] == 'The Secret in Their Eyes', 'views'] = 3000000\n",
    "data.loc[data['Title'] == 'Spotlight', 'views'] = 1000000\n"
   ]
  },
  {
   "cell_type": "code",
   "execution_count": 63,
   "metadata": {},
   "outputs": [],
   "source": [
    "# Preprocessing the data \n",
    "\n",
    "\n",
    "df = data.replace(',', '', regex = True) # Removing the commas to make str object to int\n",
    "nan_value = float(\"NaN\")\n",
    "df.replace(\"\", nan_value, inplace=True) # Replacing Nan values to empty cells "
   ]
  },
  {
   "cell_type": "code",
   "execution_count": 64,
   "metadata": {},
   "outputs": [],
   "source": [
    "# Create a seperate Dataframe to store values which has Nan\n",
    "\n",
    "non_nan_df = df[df.isna().any(axis=1)] # Nan dataframe to predict\n",
    "\n",
    "# Excluding the Nan values \n",
    "new = df.dropna() "
   ]
  },
  {
   "cell_type": "code",
   "execution_count": 65,
   "metadata": {},
   "outputs": [],
   "source": [
    "y = new['views']  # Dependant Variable  \n",
    "x = new.drop(['ID', 'Title', 'Year', 'views'], axis=1) # Independant variables\n"
   ]
  },
  {
   "cell_type": "code",
   "execution_count": 66,
   "metadata": {},
   "outputs": [],
   "source": [
    "# changing type to numeric \n",
    "x = x.apply(pd.to_numeric, errors='ignore')"
   ]
  },
  {
   "cell_type": "code",
   "execution_count": null,
   "metadata": {},
   "outputs": [],
   "source": [
    "# applying linear regression \n",
    "reg = LinearRegression().fit(x, y)\n",
    "\n",
    "xg_reg = xgb.XGBRegressor(objective ='reg:linear', n_estimators=1)\n",
    "xg_reg.fit(x,y)\n",
    "\n",
    "regr = RandomForestRegressor(max_depth=2, random_state=0)\n",
    "regr.fit(x, y)"
   ]
  },
  {
   "cell_type": "code",
   "execution_count": 92,
   "metadata": {},
   "outputs": [
    {
     "name": "stderr",
     "output_type": "stream",
     "text": [
      "/var/folders/k8/n2zsd8r164l74hwq2bvv9q8m0000gp/T/ipykernel_39166/1866010085.py:9: SettingWithCopyWarning: \n",
      "A value is trying to be set on a copy of a slice from a DataFrame.\n",
      "Try using .loc[row_indexer,col_indexer] = value instead\n",
      "\n",
      "See the caveats in the documentation: https://pandas.pydata.org/pandas-docs/stable/user_guide/indexing.html#returning-a-view-versus-a-copy\n",
      "  test1['views'] = int(xg_reg.predict(test))\n"
     ]
    }
   ],
   "source": [
    "# Storing id of movies to estimate it views \n",
    "Id_list = non_nan_df['ID'].to_list()\n",
    "\n",
    "\n",
    "df_pred = pd.DataFrame(columns = ['ID','Title','Year', 'Rating', 'Rating_count', 'Views'])\n",
    "for i in Id_list:\n",
    "    test1 = non_nan_df[(non_nan_df['ID'] == i)]\n",
    "    test = test1[['Rating ', 'Rating_count']].apply(pd.to_numeric, errors='ignore')\n",
    "    test1['views'] = int(xg_reg.predict(test))\n",
    "    df_pred.loc[i] = test1.values[0]\n"
   ]
  }
 ],
 "metadata": {
  "interpreter": {
   "hash": "31f2aee4e71d21fbe5cf8b01ff0e069b9275f58929596ceb00d14d90e3e16cd6"
  },
  "kernelspec": {
   "display_name": "Python 3.8.9 64-bit",
   "language": "python",
   "name": "python3"
  },
  "language_info": {
   "codemirror_mode": {
    "name": "ipython",
    "version": 3
   },
   "file_extension": ".py",
   "mimetype": "text/x-python",
   "name": "python",
   "nbconvert_exporter": "python",
   "pygments_lexer": "ipython3",
   "version": "3.9.7"
  },
  "orig_nbformat": 4
 },
 "nbformat": 4,
 "nbformat_minor": 2
}
